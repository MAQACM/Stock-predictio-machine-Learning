{
 "cells": [
  {
   "cell_type": "code",
   "execution_count": 107,
   "metadata": {},
   "outputs": [
    {
     "name": "stdout",
     "output_type": "stream",
     "text": [
      "            Date    Open    High     Low   Close    Volume\n",
      "0       1/3/2012  325.25  332.83  324.97  663.59   7380500\n",
      "1       1/4/2012  331.27  333.87  329.08  666.45   5749400\n",
      "2       1/5/2012  329.83  330.75  326.89  657.21   6590300\n",
      "3       1/6/2012  328.34  328.77  323.68  648.24   5405900\n",
      "4       1/9/2012  322.04  322.29  309.46  620.76  11688800\n",
      "...          ...     ...     ...     ...     ...       ...\n",
      "1253  12/23/2016  790.90  792.74  787.28  789.91    623400\n",
      "1254  12/27/2016  790.68  797.86  787.66  791.55    789100\n",
      "1255  12/28/2016  793.70  794.23  783.20  785.05   1153800\n",
      "1256  12/29/2016  783.33  785.93  778.92  782.79    744300\n",
      "1257  12/30/2016  782.75  782.78  770.41  771.82   1770000\n",
      "\n",
      "[1258 rows x 6 columns]\n"
     ]
    }
   ],
   "source": [
    "#import packages\n",
    "import pandas as pd\n",
    "import numpy as np\n",
    "import matplotlib.pyplot as plt\n",
    "from sklearn.linear_model import LinearRegression\n",
    "from pandas_profiling import ProfileReport\n",
    "#read file\n",
    "df=pd.read_csv('myfile.csv', thousands=',')\n",
    "%matplotlib inline\n",
    "print(df)"
   ]
  },
  {
   "cell_type": "code",
   "execution_count": 115,
   "metadata": {},
   "outputs": [],
   "source": [
    "#generate features for a stock/index based on historical price and perfomance\n",
    "#Args:df(dataframe with columns \"open\",\"close\",\"High\",\"Low\", \"Volume\", \"Adjusted Close\")\n",
    "#Returns:dataframe,data set with new features\n",
    "    \n",
    "def generate_features(df):\n",
    "    df_new=pd.DataFrame()\n",
    "    df_new['Date']=pd.to_datetime(df['Date'])\n",
    "    df_new.sort_values(by=['Date'], inplace=True, ascending=True)\n",
    "    #6 original features\n",
    "    #shift index by 1 ,inorder totake the value of prev day eg,[1,5,6,7]->[N/A,1,5,6]\n",
    "    df_new['Open']=pd.to_numeric(df['Open'])\n",
    "    df_new['Open_1']=pd.to_numeric(df['Open'].shift(1))\n",
    "    # Shift index by 1, in order to take the value of previous day. For example, [1, 3, 4, 2] -> [N/A, 1, 3, 4]\n",
    "    df_new['Close_1'] = pd.to_numeric(df['Close'].shift(1))\n",
    "    df_new['High_1'] = pd.to_numeric(df['High'].shift(1))\n",
    "    df_new['Low_1'] = pd.to_numeric(df['Low'].shift(1))\n",
    "    df_new['Volume_1'] = pd.to_numeric(df['Volume'].shift(1))\n",
    "    #print(df_new)\n",
    "    # 31 original features\n",
    "    # average price\n",
    "    # rolling_mean calculates the moving average given a window. For example, [1, 2, 1, 4, 3, 2, 1, 4]-> [N/A, N/A, N/A, N/A, 2.2, 2.4, 2.2, 2.8]\n",
    "    df_new['avg_price_5'] = pd.Series(df['Close']).rolling(window=5).mean().shift(1)\n",
    "    df_new['avg_price_30'] = pd.Series(df['Close']).rolling(window=21).mean().shift(1)\n",
    "    df_new['avg_price_365'] = pd.Series(df['Close']).rolling(window=252).mean().shift(1)\n",
    "    df_new['ratio_avg_price_5_30'] =df_new['avg_price_5'] / df_new['avg_price_30']\n",
    "    df_new['ratio_avg_price_5_365'] =df_new['avg_price_5'] / df_new['avg_price_365']\n",
    "    df_new['ratio_avg_price_30_365'] =df_new['avg_price_30'] / df_new['avg_price_365']\n",
    "    # average volume\n",
    "    df_new['avg_volume_5'] =pd.Series(df['Volume']).rolling( window=5).mean().shift(1)\n",
    "    df_new['avg_volume_30'] =pd.Series(df['Volume']).rolling( window=21).mean().shift(1)\n",
    "    df_new['avg_volume_365'] =pd.Series(df['Volume']).rolling(window=252).mean().shift(1)\n",
    "    df_new['ratio_avg_volume_5_30'] =df_new['avg_volume_5'] / df_new['avg_volume_30']\n",
    "    df_new['ratio_avg_volume_5_365'] =df_new['avg_volume_5'] / df_new['avg_volume_365']\n",
    "    df_new['ratio_avg_volume_30_365'] =df_new['avg_volume_30'] / df_new['avg_volume_365']\n",
    "    # standard deviation of prices\n",
    "    df_new['std_price_5'] =pd.Series(df['Close']).rolling(window=5).std().shift(1)\n",
    "    df_new['std_price_30'] =pd.Series(df['Close']).rolling(window=21).std().shift(1)\n",
    "    df_new['std_price_365'] =pd.Series(df['Close']).rolling(window=252).std().shift(1)\n",
    "    df_new['ratio_std_price_5_30'] =df_new['std_price_5'] / df_new['std_price_30']\n",
    "    df_new['ratio_std_price_5_365'] =df_new['std_price_5'] / df_new['std_price_365']\n",
    "    df_new['ratio_std_price_30_365'] =df_new['std_price_30'] / df_new['std_price_365']\n",
    "    # standard deviation of volumes\n",
    "    df_new['std_volume_5'] =pd.Series(df['Volume']).rolling(window=5).std().shift(1)\n",
    "    df_new['std_volume_30'] =pd.Series(df['Volume']).rolling(window=21).std().shift(1)\n",
    "    df_new['std_volume_365'] =pd.Series(df['Volume']).rolling(window=252).std().shift(1)\n",
    "    df_new['ratio_std_volume_5_30'] =df_new['std_volume_5'] / df_new['std_volume_30']\n",
    "    df_new['ratio_std_volume_5_365'] =df_new['std_volume_5'] / df_new['std_volume_365']\n",
    "    df_new['ratio_std_volume_30_365'] =df_new['std_volume_30'] / df_new['std_volume_365']\n",
    "    # return\n",
    "    df_new['return_1'] = ((df['Close'] - df['Close'].shift(1))/ df['Close'].shift(1)).shift(1)\n",
    "    df_new['return_5'] = ((df['Close'] - df['Close'].shift(5))/ df['Close'].shift(5)).shift(1)\n",
    "    df_new['return_30'] = ((df['Close'] -df['Close'].shift(21)) / df['Close'].shift(21)).shift(1)\n",
    "    df_new['return_365'] = ((df['Close'] -df['Close'].shift(252)) / df['Close'].shift(252)).shift(1)\n",
    "    df_new['moving_avg_5'] =pd.Series(df_new['return_1']).rolling(window=5).mean()\n",
    "    df_new['moving_avg_30'] =pd.Series(df_new['return_1']).rolling(window=21).mean()\n",
    "    df_new['moving_avg_365'] =pd.Series(df_new['return_1']).rolling(window=252).mean()\n",
    "    # the target\n",
    "    df_new['Close'] = df['Close']\n",
    "    df_new = df_new.dropna(axis=0)\n",
    "    # This will drop rows with any N/A value, which is by-product of moving average/std.\n",
    "    return df_new\n",
    "    "
   ]
  },
  {
   "cell_type": "code",
   "execution_count": 123,
   "metadata": {},
   "outputs": [
    {
     "name": "stdout",
     "output_type": "stream",
     "text": [
      "           Date    Open  Open_1  Close_1  High_1   Low_1   Volume_1  \\\n",
      "253  2013-01-07  366.35  363.31   735.95  369.35  362.48  5547600.0   \n",
      "254  2013-01-08  366.40  366.35   732.74  368.31  363.93  3323800.0   \n",
      "255  2013-01-09  364.77  366.40   731.29  366.78  360.86  3364700.0   \n",
      "256  2013-01-10  370.03  364.77   736.10  367.80  362.94  4064500.0   \n",
      "257  2013-01-11  369.61  370.03   739.45  371.11  365.38  3685000.0   \n",
      "...         ...     ...     ...      ...     ...     ...        ...   \n",
      "1253 2016-12-23  790.90  792.36   791.26  793.32  788.58   972200.0   \n",
      "1254 2016-12-27  790.68  790.90   789.91  792.74  787.28   623400.0   \n",
      "1255 2016-12-28  793.70  790.68   791.55  797.86  787.66   789100.0   \n",
      "1256 2016-12-29  783.33  793.70   785.05  794.23  783.20  1153800.0   \n",
      "1257 2016-12-30  782.75  783.33   782.79  785.93  778.92   744300.0   \n",
      "\n",
      "      avg_price_5  avg_price_30  avg_price_365  ...  ratio_std_volume_5_365  \\\n",
      "253       716.488    705.899524     641.982381  ...                0.373903   \n",
      "254       723.418    708.128095     642.245437  ...                0.308994   \n",
      "255       728.588    710.130476     642.539405  ...                0.355200   \n",
      "256       731.554    712.690476     642.888056  ...                0.328191   \n",
      "257       735.106    715.352857     643.359048  ...                0.324495   \n",
      "...           ...           ...            ...  ...                     ...   \n",
      "1253      793.448    777.346190     743.075079  ...                0.662566   \n",
      "1254      793.270    778.723333     743.239802  ...                0.264404   \n",
      "1255      792.740    780.145714     743.355040  ...                0.234914   \n",
      "1256      790.466    780.946190     743.388571  ...                0.263184   \n",
      "1257      788.112    781.515238     743.435357  ...                0.221833   \n",
      "\n",
      "      ratio_std_volume_30_365  return_1  return_5  return_30  return_365  \\\n",
      "253                  0.523015  0.019759  0.044849   0.067925    0.109043   \n",
      "254                  0.526358 -0.004362  0.049635   0.068228    0.099467   \n",
      "255                  0.520346 -0.001979  0.036644   0.061009    0.112719   \n",
      "256                  0.519285  0.006577  0.020561   0.078788    0.135536   \n",
      "257                  0.511563  0.004551  0.024609   0.081795    0.191201   \n",
      "...                       ...       ...       ...        ...         ...   \n",
      "1253                 0.607190 -0.004153 -0.008260   0.029924    0.054577   \n",
      "1254                 0.654876 -0.001706 -0.001125   0.038003    0.055465   \n",
      "1255                 0.636301  0.002076 -0.003337   0.039216    0.038085   \n",
      "1256                 0.631286 -0.008212 -0.014276   0.021881    0.010881   \n",
      "1257                 0.660605 -0.002879 -0.014813   0.015503    0.015292   \n",
      "\n",
      "      moving_avg_5  moving_avg_30  moving_avg_365   Close  \n",
      "253       0.008882       0.003188        0.000515  732.74  \n",
      "254       0.009790       0.003201        0.000481  731.29  \n",
      "255       0.007288       0.002878        0.000528  736.10  \n",
      "256       0.004116       0.003668        0.000608  739.45  \n",
      "257       0.004909       0.003801        0.000794  737.96  \n",
      "...            ...            ...             ...     ...  \n",
      "1253     -0.001646       0.001444        0.000292  789.91  \n",
      "1254     -0.000220       0.001814        0.000295  791.55  \n",
      "1255     -0.000665       0.001870        0.000228  785.05  \n",
      "1256     -0.002866       0.001069        0.000122  782.79  \n",
      "1257     -0.002975       0.000771        0.000140  771.82  \n",
      "\n",
      "[1005 rows x 39 columns]\n"
     ]
    },
    {
     "data": {
      "text/plain": [
       "LinearRegression(copy_X=True, fit_intercept=True, n_jobs=None, normalize=False)"
      ]
     },
     "execution_count": 123,
     "metadata": {},
     "output_type": "execute_result"
    }
   ],
   "source": [
    "data=generate_features(df)\n",
    "print(data)\n",
    "train=data[:700]\n",
    "valid=data[700:]\n",
    "train_x=train.drop(['Close','Date'],axis=1)\n",
    "train_y=train['Close']\n",
    "valid_Date=valid.Date\n",
    "valid_x=valid.drop(['Close','Date'],axis=1)\n",
    "valid_y=valid['Close']\n",
    "model=LinearRegression()\n",
    "\n",
    "model.fit(train_x,train_y)"
   ]
  },
  {
   "cell_type": "code",
   "execution_count": 124,
   "metadata": {},
   "outputs": [
    {
     "name": "stdout",
     "output_type": "stream",
     "text": [
      "0.8609641269977225\n",
      "12.679737107256297\n"
     ]
    }
   ],
   "source": [
    "#make preictions and find the rmse\n",
    "preds=model.predict(valid_x)\n",
    "rms=np.sqrt(np.mean(np.power((np.array(valid_y)-np.array(preds)),2)))\n",
    "print(model.score(valid_x,valid_y))\n",
    "print(rms)"
   ]
  },
  {
   "cell_type": "code",
   "execution_count": 178,
   "metadata": {},
   "outputs": [
    {
     "name": "stdout",
     "output_type": "stream",
     "text": [
      "305\n",
      "           Date  predictions   Close\n",
      "953  2015-10-16   666.853044  662.20\n",
      "954  2015-10-19   666.709919  666.10\n",
      "955  2015-10-20   669.226028  650.28\n",
      "956  2015-10-21   651.085767  642.61\n",
      "957  2015-10-22   642.715564  651.79\n",
      "...         ...          ...     ...\n",
      "1253 2016-12-23   800.636816  789.91\n",
      "1254 2016-12-27   800.110805  791.55\n",
      "1255 2016-12-28   797.038180  785.05\n",
      "1256 2016-12-29   787.241977  782.79\n",
      "1257 2016-12-30   791.921142  771.82\n",
      "\n",
      "[305 rows x 3 columns]\n"
     ]
    },
    {
     "data": {
      "text/plain": [
       "<matplotlib.legend.Legend at 0x7fe93cdf9c10>"
      ]
     },
     "execution_count": 178,
     "metadata": {},
     "output_type": "execute_result"
    },
    {
     "data": {
      "image/png": "[encoded data removed]",
      "text/plain": [
       "<Figure size 432x288 with 1 Axes>"
      ]
     },
     "metadata": {
      "needs_background": "light"
     },
     "output_type": "display_data"
    }
   ],
   "source": [
    "import matplotlib.dates as mdates\n",
    "import matplotlib.cbook as cbook\n",
    "\n",
    "years = mdates.YearLocator()   # every year\n",
    "months = mdates.MonthLocator()  # every month\n",
    "years_fmt = mdates.DateFormatter('%Y')\n",
    "#plot\n",
    "print(len(preds))\n",
    "\n",
    "#valid.insert(39,'predictions',preds)\n",
    "#valid.insert(0,'date',valid_date)\n",
    "#print(valid[['predictions','close']])\n",
    "print(valid[['Date','predictions','Close']])\n",
    "y1=valid.Close\n",
    "y2=valid.predictions\n",
    "x=valid.Date\n",
    "fig,ax=plt.subplots()\n",
    "ax.plot(x,y1,label=\"Real Close\")\n",
    "ax.plot(x,y2,label=\"predictions\")\n",
    "# format the ticks\n",
    "ax.xaxis.set_major_locator(years)\n",
    "ax.xaxis.set_major_formatter(years_fmt)\n",
    "ax.xaxis.set_minor_locator(months)\n",
    "ax.margins(0.015)\n",
    "fig.autofmt_xdate()\n",
    "plt.legend(bbox_to_anchor=(1.05, 1), loc=2, borderaxespad=0.)"
   ]
  },
  {
   "cell_type": "code",
   "execution_count": 17,
   "metadata": {},
   "outputs": [],
   "source": [
    "#ProfileReport(valid[['predictions','close']])"
   ]
  },
  {
   "cell_type": "code",
   "execution_count": 25,
   "metadata": {},
   "outputs": [
    {
     "name": "stdout",
     "output_type": "stream",
     "text": [
      ""
     ]
    }
   ],
   "source": []
  },
  {
   "cell_type": "code",
   "execution_count": null,
   "metadata": {},
   "outputs": [],
   "source": []
  }
 ],
 "metadata": {
  "kernelspec": {
   "display_name": "Python 3",
   "language": "python",
   "name": "python3"
  },
  "language_info": {
   "codemirror_mode": {
    "name": "ipython",
    "version": 3
   },
   "file_extension": ".py",
   "mimetype": "text/x-python",
   "name": "python",
   "nbconvert_exporter": "python",
   "pygments_lexer": "ipython3",
   "version": "3.7.6"
  }
 },
 "nbformat": 4,
 "nbformat_minor": 2
}
